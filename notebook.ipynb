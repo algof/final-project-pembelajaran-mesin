{
 "cells": [
  {
   "cell_type": "markdown",
   "id": "3bf0e8b0",
   "metadata": {},
   "source": [
    "# Final Project Machine Learning\n",
    "\n",
    "| Name           | NRP        | Kelas      | Kelompok    |\n",
    "| ---            | ---        | ---------- | ---         |\n",
    "| Daffa Rinali | 5025231209 | Pembelajaran Mesin (D) | Kelompok 6 |\n",
    "| Algof Kristian Zega | 5025231235 | Pembelajaran Mesin (D) | Kelompok 6 |\n",
    "| Filbert Hainsly Martin | 5025231256 | Pembelajaran Mesin (D) | Kelompok 6 |\n",
    "| Gregorius Setiadharma | 5025231268 | Pembelajaran Mesin (D) | Kelompok 6 |\n",
    "| Muhammad Davin Aulia Risky | 5025231275 | Pembelajaran Mesin (D) | Kelompok 6 |"
   ]
  },
  {
   "cell_type": "markdown",
   "id": "83757f88",
   "metadata": {},
   "source": [
    "## 0. Problem Definition"
   ]
  },
  {
   "cell_type": "markdown",
   "id": "1afc54e3",
   "metadata": {},
   "source": [
    "## 1. Importing Libraries and Data Collection"
   ]
  },
  {
   "cell_type": "markdown",
   "id": "56d28fa1",
   "metadata": {},
   "source": [
    "## 2. Exploratory Data Analysis and Feature Engineering"
   ]
  },
  {
   "cell_type": "markdown",
   "id": "352b491a",
   "metadata": {},
   "source": [
    "## 3. Data Preprocessing"
   ]
  },
  {
   "cell_type": "markdown",
   "id": "28e66f71",
   "metadata": {},
   "source": [
    "## 4. Model Selection"
   ]
  },
  {
   "cell_type": "markdown",
   "id": "cbe7630e",
   "metadata": {},
   "source": [
    "### 4. 1 K-means Clustering"
   ]
  },
  {
   "cell_type": "markdown",
   "id": "db1411ef",
   "metadata": {},
   "source": [
    "## 5. Model Training"
   ]
  },
  {
   "cell_type": "markdown",
   "id": "153a2a39",
   "metadata": {},
   "source": [
    "## 6. Model Evaluation"
   ]
  },
  {
   "cell_type": "markdown",
   "id": "5bbca485",
   "metadata": {},
   "source": [
    "## 7. "
   ]
  }
 ],
 "metadata": {
  "kernelspec": {
   "display_name": "Python 3",
   "language": "python",
   "name": "python3"
  },
  "language_info": {
   "codemirror_mode": {
    "name": "ipython",
    "version": 3
   },
   "file_extension": ".py",
   "mimetype": "text/x-python",
   "name": "python",
   "nbconvert_exporter": "python",
   "pygments_lexer": "ipython3",
   "version": "3.12.8"
  }
 },
 "nbformat": 4,
 "nbformat_minor": 5
}
